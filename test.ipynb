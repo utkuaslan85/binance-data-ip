{
 "cells": [
  {
   "cell_type": "code",
   "execution_count": 33,
   "id": "e881d59b-4133-49a3-be23-8fbef1209275",
   "metadata": {},
   "outputs": [],
   "source": [
    "from kafka import KafkaProducer\n",
    "from kafka.errors import KafkaError\n",
    "import pandas as pd\n",
    "from binance.client import Client\n",
    "import datetime\n",
    "import requests\n",
    "from minio import Minio\n",
    "import tempfile\n",
    "from s3fs.core import S3FileSystem\n",
    "from binance_config import *"
   ]
  },
  {
   "cell_type": "code",
   "execution_count": 34,
   "id": "3ae76117-d213-43ed-a45e-49ad78293a19",
   "metadata": {
    "tags": []
   },
   "outputs": [],
   "source": [
    "# Binance client\n",
    "api_key = API_KEY\n",
    "api_secret = SECRET_KEY\n",
    "client = Client(api_key=api_key, api_secret=api_secret)"
   ]
  },
  {
   "cell_type": "code",
   "execution_count": 9,
   "id": "95023e96-34a5-47f0-bb0d-c4e1a92eb4d7",
   "metadata": {},
   "outputs": [],
   "source": [
    "# Minio client\n",
    "mclient = Minio('10.152.183.240:9000', access_key='access-key', secret_key='secret-key', secure=False)"
   ]
  },
  {
   "cell_type": "code",
   "execution_count": 10,
   "id": "ff502330-da46-4ccb-8385-ddd039f40b4d",
   "metadata": {},
   "outputs": [],
   "source": [
    "# Kafka client\n",
    "producer = KafkaProducer(bootstrap_servers=['kafka.kafka.svc.cluster.local:9092'])"
   ]
  },
  {
   "cell_type": "code",
   "execution_count": 20,
   "id": "10fa6f70-2a32-4e7f-aa38-af0bb94b149b",
   "metadata": {},
   "outputs": [],
   "source": [
    "# s3fs client\n",
    "s3 = S3FileSystem(\n",
    "    anon=False,\n",
    "    key='access-key',\n",
    "    secret='secret-key',\n",
    "    use_ssl=False,\n",
    "    client_kwargs={'endpoint_url': 'http://10.152.183.240:9000'})"
   ]
  },
  {
   "cell_type": "code",
   "execution_count": 21,
   "id": "e1878f7f-f3da-47f2-b3fd-bfcf89be343d",
   "metadata": {},
   "outputs": [],
   "source": [
    "bnbbtc = client.get_symbol_info('BNBBTC')"
   ]
  },
  {
   "cell_type": "code",
   "execution_count": 21,
   "id": "809c90c0-252e-403d-aebf-9a061a85cb14",
   "metadata": {},
   "outputs": [],
   "source": [
    "payload = client.get_symbol_ticker(symbol='BNBBTC')"
   ]
  },
  {
   "cell_type": "code",
   "execution_count": null,
   "id": "36cc59ac-25ce-4b39-9ba6-d9b8649d40ef",
   "metadata": {},
   "outputs": [],
   "source": [
    "producer.send('test', key=bytearray(payload['symbol'], 'utf-8'), value=bytearray(payload['price'], 'utf-8'))"
   ]
  },
  {
   "cell_type": "code",
   "execution_count": null,
   "id": "d6b325d1-f36c-49b7-9c8b-b88002693f59",
   "metadata": {},
   "outputs": [],
   "source": [
    "mclient.fput_object('data', 'test3.csv', 'test.csv')"
   ]
  },
  {
   "cell_type": "code",
   "execution_count": 18,
   "id": "a798726f-1ae5-473c-8c1a-eeb9f011a854",
   "metadata": {},
   "outputs": [],
   "source": [
    "with s3.open('data/test3.csv', 'w') as f:\n",
    "    df.to_csv(f)"
   ]
  },
  {
   "cell_type": "code",
   "execution_count": 17,
   "id": "697eee21-6754-48e6-b188-f6b76cf9c8db",
   "metadata": {},
   "outputs": [],
   "source": [
    "tickers = client.get_all_tickers()\n",
    "\n",
    "df = pd.DataFrame(tickers)"
   ]
  },
  {
   "cell_type": "code",
   "execution_count": null,
   "id": "858b2070-f4bc-44e8-a100-5373fd9d2e9a",
   "metadata": {},
   "outputs": [],
   "source": [
    "# Asynchronous by default\n",
    "future = producer.send('test', b'raw_bytes')\n",
    "\n",
    "# Block for 'synchronous' sends\n",
    "try:\n",
    "    record_metadata = future.get(timeout=10)\n",
    "except KafkaError:\n",
    "    # Decide what to do if produce request failed...\n",
    "    log.exception()\n",
    "    pass\n",
    "\n",
    "# Successful result returns assigned partition and offset\n",
    "print (record_metadata.topic)\n",
    "print (record_metadata.partition)\n",
    "print (record_metadata.offset)\n",
    "\n",
    "# produce keyed messages to enable hashed partitioning\n",
    "producer.send('test', key=b'foo', value=b'bar')\n",
    "\n",
    "# encode objects via msgpack\n",
    "producer = KafkaProducer(value_serializer=msgpack.dumps)\n",
    "producer.send('test', {'key': 'value'})"
   ]
  },
  {
   "cell_type": "code",
   "execution_count": 32,
   "id": "97500f13-8ba8-4e98-959a-8b5d1eb06a06",
   "metadata": {},
   "outputs": [
    {
     "data": {
      "text/plain": [
       "<kafka.producer.future.FutureRecordMetadata at 0x7f4ac18ded60>"
      ]
     },
     "execution_count": 32,
     "metadata": {},
     "output_type": "execute_result"
    }
   ],
   "source": [
    "producer.send('test', key=b'foo', value=b'bar')"
   ]
  },
  {
   "cell_type": "code",
   "execution_count": null,
   "id": "5b2a4a3c-a394-4324-b28b-8836659fb099",
   "metadata": {},
   "outputs": [],
   "source": [
    "# produce json messages\n",
    "producer = KafkaProducer(value_serializer=lambda payload: json.dumps(payload).encode('ascii'))\n",
    "producer.send('test', {'key': 'value'})"
   ]
  },
  {
   "cell_type": "code",
   "execution_count": null,
   "id": "674d42ce-26e9-4db7-a767-afedc334b2e6",
   "metadata": {},
   "outputs": [],
   "source": [
    "# produce asynchronously\n",
    "for _ in range(100):\n",
    "    producer.send('my-topic', b'msg')\n",
    "\n",
    "def on_send_success(record_metadata):\n",
    "    print(record_metadata.topic)\n",
    "    print(record_metadata.partition)\n",
    "    print(record_metadata.offset)\n",
    "\n",
    "def on_send_error(excp):\n",
    "    log.error('I am an errback', exc_info=excp)\n",
    "    # handle exception\n",
    "\n",
    "# produce asynchronously with callbacks\n",
    "producer.send('my-topic', b'raw_bytes').add_callback(on_send_success).add_errback(on_send_error)\n",
    "\n",
    "# block until all async messages are sent\n",
    "producer.flush()\n",
    "\n",
    "# configure multiple retries\n",
    "producer = KafkaProducer(retries=5)"
   ]
  },
  {
   "cell_type": "code",
   "execution_count": null,
   "id": "1973ac85-f7ba-403b-98a8-2a726cb41415",
   "metadata": {},
   "outputs": [],
   "source": [
    "start_date = datetime.datetime.strptime('1 Jan 2016', '%d %b %Y')\n",
    "today = datetime.datetime.today()\n",
    "\n",
    "def binanceBarExtractor(symbol):\n",
    "    print('working...')\n",
    "    filename = '{}_MinuteBars.csv'.format(symbol)\n",
    "\n",
    "    klines = bclient.get_historical_klines(symbol, Client.KLINE_INTERVAL_1MINUTE, start_date.strftime(\"%d %b %Y %H:%M:%S\"), today.strftime(\"%d %b %Y %H:%M:%S\"), 1000)\n",
    "    data = pd.DataFrame(klines, columns = ['open_timestamp', 'open', 'high', 'low', 'close', 'volume', 'close_timestamp', 'quote_av', 'trades', 'tb_base_av', 'tb_quote_av', 'ignore' ])\n",
    "    # data['open_time'] = pd.to_datetime(data['open_time'], unit='ms')\n",
    "    # data['close_time'] = pd.to_datetime(data['close_time'], unit='ms')\n",
    "    # data = data.reset_index()\n",
    "\n",
    "    # data.set_index('open_time', inplace=True)\n",
    "    data.to_csv(filename)\n",
    "    print('finished!')"
   ]
  }
 ],
 "metadata": {
  "kernelspec": {
   "display_name": "Python 3 (ipykernel)",
   "language": "python",
   "name": "python3"
  },
  "language_info": {
   "codemirror_mode": {
    "name": "ipython",
    "version": 3
   },
   "file_extension": ".py",
   "mimetype": "text/x-python",
   "name": "python",
   "nbconvert_exporter": "python",
   "pygments_lexer": "ipython3",
   "version": "3.8.6"
  }
 },
 "nbformat": 4,
 "nbformat_minor": 5
}
