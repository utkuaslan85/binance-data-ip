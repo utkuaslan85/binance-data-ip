{
 "cells": [
  {
   "cell_type": "code",
   "execution_count": 1,
   "id": "e7f7536e-d36a-4f15-8bd0-ce696a1d9017",
   "metadata": {},
   "outputs": [],
   "source": [
    "import couler.argo as couler\n",
    "from couler.argo_submitter import ArgoSubmitter"
   ]
  },
  {
   "cell_type": "code",
   "execution_count": 2,
   "id": "ac208d33-08d5-4562-8565-edd58cb2b975",
   "metadata": {},
   "outputs": [
    {
     "name": "stderr",
     "output_type": "stream",
     "text": [
      "INFO:root:Argo submitter namespace: binance-test\n",
      "INFO:root:Cannot find local k8s config. Trying in-cluster config.\n",
      "INFO:root:Initialized with in-cluster config.\n",
      "INFO:root:Checking workflow name/generatedName runpy-\n",
      "INFO:root:Submitting workflow to Argo\n",
      "INFO:root:Workflow runpy-xwkgn has been submitted in \"binance-test\" namespace!\n"
     ]
    },
    {
     "data": {
      "text/plain": [
       "{'apiVersion': 'argoproj.io/v1alpha1',\n",
       " 'kind': 'Workflow',\n",
       " 'metadata': {'creationTimestamp': '2021-08-25T13:44:25Z',\n",
       "  'generateName': 'runpy-',\n",
       "  'generation': 1,\n",
       "  'managedFields': [{'apiVersion': 'argoproj.io/v1alpha1',\n",
       "    'fieldsType': 'FieldsV1',\n",
       "    'fieldsV1': {'f:metadata': {'f:generateName': {}}, 'f:spec': {}},\n",
       "    'manager': 'OpenAPI-Generator',\n",
       "    'operation': 'Update',\n",
       "    'time': '2021-08-25T13:44:25Z'}],\n",
       "  'name': 'runpy-xwkgn',\n",
       "  'namespace': 'binance-test',\n",
       "  'resourceVersion': '2765302',\n",
       "  'selfLink': '/apis/argoproj.io/v1alpha1/namespaces/binance-test/workflows/runpy-xwkgn',\n",
       "  'uid': 'b7082991-2e40-4fda-9c44-380d046e207d'},\n",
       " 'spec': {'entrypoint': 'runpy',\n",
       "  'templates': [{'name': 'runpy',\n",
       "    'steps': [[{'name': 'flip-coin-28', 'template': 'flip-coin'}],\n",
       "     [{'name': 'heads-29',\n",
       "       'template': 'heads',\n",
       "       'when': '{{steps.flip-coin-28.outputs.result}} == heads'},\n",
       "      {'name': 'tails-30',\n",
       "       'template': 'tails',\n",
       "       'when': '{{steps.flip-coin-28.outputs.result}} == tails'}]]},\n",
       "   {'name': 'flip-coin',\n",
       "    'script': {'command': ['python'],\n",
       "     'image': 'python:alpine3.6',\n",
       "     'source': '\\nimport random\\n\\nres = \"heads\" if random.randint(0, 1) == 0 else \"tails\"\\nprint(res)\\n'}},\n",
       "   {'container': {'command': ['sh', '-c', 'echo \"it was heads\"'],\n",
       "     'image': 'alpine:3.6'},\n",
       "    'name': 'heads'},\n",
       "   {'container': {'command': ['sh', '-c', 'echo \"it was tails\"'],\n",
       "     'image': 'alpine:3.6'},\n",
       "    'name': 'tails'}]}}"
      ]
     },
     "execution_count": 2,
     "metadata": {},
     "output_type": "execute_result"
    }
   ],
   "source": [
    "import couler.argo as couler\n",
    "from couler.argo_submitter import ArgoSubmitter\n",
    "\n",
    "\n",
    "def random_code():\n",
    "    import random\n",
    "\n",
    "    res = \"heads\" if random.randint(0, 1) == 0 else \"tails\"\n",
    "    print(res)\n",
    "\n",
    "\n",
    "def flip_coin():\n",
    "    return couler.run_script(image=\"python:alpine3.6\", source=random_code)\n",
    "\n",
    "\n",
    "def heads():\n",
    "    return couler.run_container(\n",
    "        image=\"alpine:3.6\", command=[\"sh\", \"-c\", 'echo \"it was heads\"']\n",
    "    )\n",
    "\n",
    "\n",
    "def tails():\n",
    "    return couler.run_container(\n",
    "        image=\"alpine:3.6\", command=[\"sh\", \"-c\", 'echo \"it was tails\"']\n",
    "    )\n",
    "\n",
    "\n",
    "result = flip_coin()\n",
    "couler.when(couler.equal(result, \"heads\"), lambda: heads())\n",
    "couler.when(couler.equal(result, \"tails\"), lambda: tails())\n",
    "\n",
    "submitter = ArgoSubmitter(namespace=\"binance-test\")\n",
    "couler.run(submitter=submitter)"
   ]
  },
  {
   "cell_type": "code",
   "execution_count": null,
   "id": "f7c8908f-844f-4841-8fb4-82a34731ea5c",
   "metadata": {},
   "outputs": [],
   "source": []
  }
 ],
 "metadata": {
  "kernelspec": {
   "display_name": "Python 3 (ipykernel)",
   "language": "python",
   "name": "python3"
  },
  "language_info": {
   "codemirror_mode": {
    "name": "ipython",
    "version": 3
   },
   "file_extension": ".py",
   "mimetype": "text/x-python",
   "name": "python",
   "nbconvert_exporter": "python",
   "pygments_lexer": "ipython3",
   "version": "3.8.6"
  }
 },
 "nbformat": 4,
 "nbformat_minor": 5
}
