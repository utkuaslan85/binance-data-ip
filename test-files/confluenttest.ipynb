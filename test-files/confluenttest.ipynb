{
 "cells": [
  {
   "cell_type": "code",
   "execution_count": 1,
   "id": "e3ed436a-0c63-439c-8e29-4dec4d5cfbaf",
   "metadata": {},
   "outputs": [],
   "source": [
    "from confluent_kafka import Producer\n",
    "from confluent_kafka import SerializingProducer\n",
    "from confluent_kafka.serialization import StringSerializer\n",
    "from confluent_kafka.schema_registry import SchemaRegistryClient\n",
    "from confluent_kafka.schema_registry.avro import AvroSerializer\n",
    "import json"
   ]
  },
  {
   "cell_type": "code",
   "execution_count": 2,
   "id": "7993f3a3-f72d-4b6a-8f01-511f8b73e76c",
   "metadata": {},
   "outputs": [],
   "source": [
    "schema_str = \"\"\"\n",
    "{\"name\":\"MyClass\",\"type\":\"record\",\"namespace\":\"confluent.io.examples.serialization.avro\",\"fields\":[{\"name\":\"e\",\"type\":\"string\"},{\"name\":\"E\",\"type\":\"long\"},{\"name\":\"s\",\"type\":\"string\"},{\"name\":\"k\",\"type\":{\"name\":\"k\",\"type\":\"record\",\"fields\":[{\"name\":\"t\",\"type\":\"long\"},{\"name\":\"T\",\"type\":\"long\"},{\"name\":\"s\",\"type\":\"string\"},{\"name\":\"i\",\"type\":\"string\"},{\"name\":\"f\",\"type\":\"int\"},{\"name\":\"L\",\"type\":\"int\"},{\"name\":\"o\",\"type\":\"string\"},{\"name\":\"c\",\"type\":\"string\"},{\"name\":\"h\",\"type\":\"string\"},{\"name\":\"l\",\"type\":\"string\"},{\"name\":\"v\",\"type\":\"string\"},{\"name\":\"n\",\"type\":\"int\"},{\"name\":\"x\",\"type\":\"boolean\"},{\"name\":\"q\",\"type\":\"string\"},{\"name\":\"V\",\"type\":\"string\"},{\"name\":\"Q\",\"type\":\"string\"},{\"name\":\"B\",\"type\":\"string\"}]}}]}\n",
    "\"\"\""
   ]
  },
  {
   "cell_type": "code",
   "execution_count": 3,
   "id": "97cc8058-b608-4700-80a2-0608439586d7",
   "metadata": {},
   "outputs": [],
   "source": [
    "msg = {'e': 'kline', 'E': 1629915329797, 's': 'BTCUSDT', 'k': {'t': 1629915300000, 'T': 1629915359999, 's': 'BTCUSDT', 'i': '1m', 'f': 1024774904, 'L': 1024775248, 'o': '48959.51000000', 'c': '48980.85000000', 'h': '48984.26000000', 'l': '48959.50000000', 'v': '10.09318100', 'n': 345, 'x': False, 'q': '494299.10531026', 'V': '3.71258800', 'Q': '181812.83598464', 'B': '0'}}"
   ]
  },
  {
   "cell_type": "code",
   "execution_count": 4,
   "id": "fd766961-5893-49d0-85e0-5a1dd92612b4",
   "metadata": {},
   "outputs": [],
   "source": [
    "key = \"BTCUSDT\""
   ]
  },
  {
   "cell_type": "code",
   "execution_count": 5,
   "id": "e575c4d1-e773-402b-a75c-cea002ad1780",
   "metadata": {},
   "outputs": [],
   "source": [
    "schema_registry_conf = {'url': 'http://10.152.183.68:8085'}\n",
    "\n",
    "schema_registry_client = SchemaRegistryClient(schema_registry_conf)\n",
    "\n",
    "avro_serializer = AvroSerializer(schema_registry_client, schema_str)\n",
    "\n",
    "producer_conf = {'bootstrap.servers': 'kafka.kafka.svc.cluster.local:9092',\n",
    "                 'key.serializer': StringSerializer('utf_8'),\n",
    "                 'value.serializer': avro_serializer}\n",
    "\n",
    "producer = SerializingProducer(producer_conf)"
   ]
  },
  {
   "cell_type": "code",
   "execution_count": 15,
   "id": "3e935992-f8e9-4f77-ae57-b1d29a5e56fe",
   "metadata": {},
   "outputs": [],
   "source": [
    "producer.produce(topic=\"test\", key=key, value=msg)"
   ]
  },
  {
   "cell_type": "code",
   "execution_count": 14,
   "id": "c16ed711-02ef-48ee-a8e1-333e525363a1",
   "metadata": {},
   "outputs": [
    {
     "data": {
      "text/plain": [
       "0"
      ]
     },
     "execution_count": 14,
     "metadata": {},
     "output_type": "execute_result"
    }
   ],
   "source": [
    "producer.flush()"
   ]
  }
 ],
 "metadata": {
  "kernelspec": {
   "display_name": "Python 3 (ipykernel)",
   "language": "python",
   "name": "python3"
  },
  "language_info": {
   "codemirror_mode": {
    "name": "ipython",
    "version": 3
   },
   "file_extension": ".py",
   "mimetype": "text/x-python",
   "name": "python",
   "nbconvert_exporter": "python",
   "pygments_lexer": "ipython3",
   "version": "3.8.6"
  }
 },
 "nbformat": 4,
 "nbformat_minor": 5
}
