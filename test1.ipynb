{
 "cells": [
  {
   "cell_type": "code",
   "execution_count": 2,
   "id": "e881d59b-4133-49a3-be23-8fbef1209275",
   "metadata": {},
   "outputs": [],
   "source": [
    "from kafka import KafkaProducer\n",
    "from kafka.errors import KafkaError\n",
    "import pandas as pd\n",
    "from binance.client import Client\n",
    "import datetime\n",
    "from binance_config import *\n",
    "import time\n",
    "from binance import ThreadedWebsocketManager"
   ]
  },
  {
   "cell_type": "code",
   "execution_count": 3,
   "id": "6138d16c-a144-456d-a6a8-d327a233e3aa",
   "metadata": {
    "tags": []
   },
   "outputs": [],
   "source": [
    "# Binance client\n",
    "api_key = API_KEY   \n",
    "api_secret = SECRET_KEY\n",
    "client = Client(api_key=api_key, api_secret=api_secret)"
   ]
  },
  {
   "cell_type": "code",
   "execution_count": 10,
   "id": "a80eb43b-3d59-42c0-af1c-edadba3267dc",
   "metadata": {},
   "outputs": [],
   "source": [
    "# Binance Threaded web socket manager\n",
    "twm = ThreadedWebsocketManager(api_key=api_key, api_secret=api_secret)"
   ]
  },
  {
   "cell_type": "code",
   "execution_count": 6,
   "id": "53e713be-4bce-4c26-9b9e-78d294f26d04",
   "metadata": {
    "tags": []
   },
   "outputs": [],
   "source": [
    "# Kafka client\n",
    "producer = KafkaProducer(bootstrap_servers=['kafka.kafka.svc.cluster.local:9092'])"
   ]
  },
  {
   "cell_type": "code",
   "execution_count": null,
   "id": "2762dc97-ef39-4516-8404-c50f34c6b27b",
   "metadata": {},
   "outputs": [],
   "source": [
    "producer = KafkaProducer(bootstrap_servers=['kafka.kafka.svc.cluster.local:9092'], value_serializer=lambda m: json.dumps(m).encode('ascii'))"
   ]
  },
  {
   "cell_type": "code",
   "execution_count": 6,
   "id": "95588746-81e5-430a-bd26-55ee612d458e",
   "metadata": {
    "tags": []
   },
   "outputs": [],
   "source": [
    "symbol = 'BNBBTC'"
   ]
  },
  {
   "cell_type": "code",
   "execution_count": 8,
   "id": "b70a22df-82d3-469e-993b-97c519fa4fb7",
   "metadata": {},
   "outputs": [],
   "source": [
    "def flatten_json(nested_json):\n",
    "    \"\"\"\n",
    "        Flatten json object with nested keys into a single level.\n",
    "        Args:\n",
    "            nested_json: A nested json object.\n",
    "        Returns:\n",
    "            The flattened json object if successful, None otherwise.\n",
    "    \"\"\"\n",
    "    out = {}\n",
    "\n",
    "    def flatten(x, name=''):\n",
    "        if type(x) is dict:\n",
    "            for a in x:\n",
    "                flatten(x[a], name + a + '_')\n",
    "        elif type(x) is list:\n",
    "            i = 0\n",
    "            for a in x:\n",
    "                flatten(a, name + str(i) + '_')\n",
    "                i += 1\n",
    "        else:\n",
    "            out[name[:-1]] = x\n",
    "\n",
    "    flatten(nested_json)\n",
    "    return out"
   ]
  },
  {
   "cell_type": "code",
   "execution_count": 14,
   "id": "617ca20f-8f04-47b4-9d2c-67a730b130e0",
   "metadata": {},
   "outputs": [
    {
     "name": "stdout",
     "output_type": "stream",
     "text": [
      "message type: depthUpdate\n",
      "{'e': 'depthUpdate', 'E': 1628239749878, 's': 'BNBBTC', 'U': 2113230735, 'u': 2113230738, 'b': [['0.00819100', '8.22000000'], ['0.00811300', '12.16000000']], 'a': [['0.00820200', '93.37000000']]}\n"
     ]
    }
   ],
   "source": [
    "# start is required to initialise its internal loop\n",
    "twm.start()\n",
    "\n",
    "\n",
    "def handle_socket_message(msg):\n",
    "    # print(f\"event type: {msg['e']}\")\n",
    "\n",
    "    # producer.send('test', {symbol : msg})\n",
    "    print(msg)\n",
    "    print(flatten_json(msg))\n",
    "\n",
    "\n",
    "twm.start_kline_socket(callback=handle_socket_message, symbol=symbol)\n",
    "\n",
    "# multiple sockets can be started\n",
    "# twm.start_depth_socket(callback=handle_socket_message, symbol=symbol)\n",
    "\n",
    "# or a multiplex socket can be started like this\n",
    "# see Binance docs for stream names\n",
    "# streams = ['bnbbtc@miniTicker', 'bnbbtc@bookTicker']\n",
    "# twm.start_multiplex_socket(callback=handle_socket_message, streams=streams)\n",
    "\n",
    "twm.join()"
   ]
  },
  {
   "cell_type": "code",
   "execution_count": 4,
   "id": "babb0bd7-192b-4e04-8160-ada364ffc43f",
   "metadata": {},
   "outputs": [],
   "source": [
    "A = {'e': 'kline', 'E': 1628610790272, 's': 'BNBBTC', 'k': {'t': 1628610780000, 'T': 1628610839999, 's': 'BNBBTC', 'i': '1m', 'f': 155943535, 'L': 155943541, 'o': '0.00816900', 'c': '0.00817000', 'h': '0.00817000', 'l': '0.00816800', 'v': '7.56000000', 'n': 7, 'x': False, 'q': '0.06175672', 'V': '0.87000000', 'Q': '0.00710750', 'B': '0'}}"
   ]
  },
  {
   "cell_type": "code",
   "execution_count": 9,
   "id": "00fb7ec1-f9f6-4622-8520-8c28bd55e630",
   "metadata": {},
   "outputs": [
    {
     "data": {
      "text/plain": [
       "{'e': 'kline',\n",
       " 'E': 1628610790272,\n",
       " 's': 'BNBBTC',\n",
       " 'k_t': 1628610780000,\n",
       " 'k_T': 1628610839999,\n",
       " 'k_s': 'BNBBTC',\n",
       " 'k_i': '1m',\n",
       " 'k_f': 155943535,\n",
       " 'k_L': 155943541,\n",
       " 'k_o': '0.00816900',\n",
       " 'k_c': '0.00817000',\n",
       " 'k_h': '0.00817000',\n",
       " 'k_l': '0.00816800',\n",
       " 'k_v': '7.56000000',\n",
       " 'k_n': 7,\n",
       " 'k_x': False,\n",
       " 'k_q': '0.06175672',\n",
       " 'k_V': '0.87000000',\n",
       " 'k_Q': '0.00710750',\n",
       " 'k_B': '0'}"
      ]
     },
     "execution_count": 9,
     "metadata": {},
     "output_type": "execute_result"
    }
   ],
   "source": [
    "flatten_json(A)"
   ]
  },
  {
   "cell_type": "code",
   "execution_count": null,
   "id": "7214708c-34ba-4ac6-9f93-e44b0e4bfb3b",
   "metadata": {},
   "outputs": [],
   "source": [
    "# start is required to initialise its internal loop\n",
    "twm.start()\n",
    "\n",
    "def handle_socket_message(msg):\n",
    "    print(f\"message type: {msg['e']}\")\n",
    "    producer.send('test', key=bytearray(symbol, 'utf-8'), value=bytearray(str(msg), 'utf-8'))\n",
    "    print(msg)\n",
    "    \n",
    "twm.start_kline_socket(callback=handle_socket_message, symbol=symbol)\n",
    "\n",
    "# multiple sockets can be started\n",
    "#twm.start_depth_socket(callback=handle_socket_message, symbol=symbol)\n",
    "\n",
    "# or a multiplex socket can be started like this\n",
    "# see Binance docs for stream names\n",
    "#streams = ['bnbbtc@miniTicker', 'bnbbtc@bookTicker']\n",
    "#twm.start_multiplex_socket(callback=handle_socket_message, streams=streams)\n",
    "\n",
    "twm.join()"
   ]
  },
  {
   "cell_type": "code",
   "execution_count": null,
   "id": "e431438c-6878-4495-a668-77cb80428e8e",
   "metadata": {},
   "outputs": [],
   "source": [
    "bnbbtc = client.get_symbol_info('BNBBTC')\n",
    "\n",
    "payload = client.get_symbol_ticker(symbol='BNBBTC')"
   ]
  },
  {
   "cell_type": "code",
   "execution_count": null,
   "id": "36cc59ac-25ce-4b39-9ba6-d9b8649d40ef",
   "metadata": {},
   "outputs": [],
   "source": [
    "producer.send('test', key=bytearray(payload['symbol'], 'utf-8'), value=bytearray(payload['price'], 'utf-8'))"
   ]
  },
  {
   "cell_type": "code",
   "execution_count": 17,
   "id": "697eee21-6754-48e6-b188-f6b76cf9c8db",
   "metadata": {},
   "outputs": [],
   "source": [
    "tickers = client.get_all_tickers()\n",
    "\n",
    "df = pd.DataFrame(tickers)"
   ]
  },
  {
   "cell_type": "code",
   "execution_count": null,
   "id": "858b2070-f4bc-44e8-a100-5373fd9d2e9a",
   "metadata": {},
   "outputs": [],
   "source": [
    "# Asynchronous by default\n",
    "future = producer.send('test', b'raw_bytes')\n",
    "\n",
    "# Block for 'synchronous' sends\n",
    "try:\n",
    "    record_metadata = future.get(timeout=10)\n",
    "except KafkaError:\n",
    "    # Decide what to do if produce request failed...\n",
    "    log.exception()\n",
    "    pass\n",
    "\n",
    "# Successful result returns assigned partition and offset\n",
    "print (record_metadata.topic)\n",
    "print (record_metadata.partition)\n",
    "print (record_metadata.offset)\n",
    "\n",
    "# produce keyed messages to enable hashed partitioning\n",
    "producer.send('test', key=b'foo', value=b'bar')\n",
    "\n",
    "# encode objects via msgpack\n",
    "producer = KafkaProducer(value_serializer=msgpack.dumps)\n",
    "producer.send('test', {'key': 'value'})"
   ]
  },
  {
   "cell_type": "code",
   "execution_count": null,
   "id": "5b2a4a3c-a394-4324-b28b-8836659fb099",
   "metadata": {},
   "outputs": [],
   "source": [
    "# produce json messages\n",
    "producer = KafkaProducer(value_serializer=lambda payload: json.dumps(payload).encode('ascii'))\n",
    "producer.send('test', {'key': 'value'})"
   ]
  },
  {
   "cell_type": "code",
   "execution_count": null,
   "id": "674d42ce-26e9-4db7-a767-afedc334b2e6",
   "metadata": {},
   "outputs": [],
   "source": [
    "# produce asynchronously\n",
    "for _ in range(100):\n",
    "    producer.send('my-topic', b'msg')\n",
    "\n",
    "def on_send_success(record_metadata):\n",
    "    print(record_metadata.topic)\n",
    "    print(record_metadata.partition)\n",
    "    print(record_metadata.offset)\n",
    "\n",
    "def on_send_error(excp):\n",
    "    log.error('I am an errback', exc_info=excp)\n",
    "    # handle exception\n",
    "\n",
    "# produce asynchronously with callbacks\n",
    "producer.send('my-topic', b'raw_bytes').add_callback(on_send_success).add_errback(on_send_error)\n",
    "\n",
    "# block until all async messages are sent\n",
    "producer.flush()\n",
    "\n",
    "# configure multiple retries\n",
    "producer = KafkaProducer(retries=5)"
   ]
  }
 ],
 "metadata": {
  "kernelspec": {
   "display_name": "Python 3 (ipykernel)",
   "language": "python",
   "name": "python3"
  },
  "language_info": {
   "codemirror_mode": {
    "name": "ipython",
    "version": 3
   },
   "file_extension": ".py",
   "mimetype": "text/x-python",
   "name": "python",
   "nbconvert_exporter": "python",
   "pygments_lexer": "ipython3",
   "version": "3.8.6"
  }
 },
 "nbformat": 4,
 "nbformat_minor": 5
}
