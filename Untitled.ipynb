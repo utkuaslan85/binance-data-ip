{
 "cells": [
  {
   "cell_type": "code",
   "execution_count": null,
   "id": "bcd8f353-b104-4c2c-b06d-d8f2e5a6a18a",
   "metadata": {},
   "outputs": [],
   "source": [
    "from kafka import KafkaProducer\n",
    "from binance_config import *\n",
    "from binance import ThreadedWebsocketManager\n",
    "\n",
    "# Binance client\n",
    "api_key = API_KEY\n",
    "api_secret = SECRET_KEY\n",
    "twm = ThreadedWebsocketManager(api_key=api_key, api_secret=api_secret)\n",
    "\n",
    "# Kafka Client\n",
    "producer = KafkaProducer(bootstrap_servers=['kafka.kafka.svc.cluster.local:9092'], value_serializer=lambda m: json.dumps(m).encode('ascii'))\n",
    "\n",
    "symbol = 'BTCUSD'\n",
    "\n",
    "\n",
    "def flatten_json(nested_json):\n",
    "    \"\"\"\n",
    "        Flatten json object with nested keys into a single level.\n",
    "        Args:\n",
    "            nested_json: A nested json object.\n",
    "        Returns:\n",
    "            The flattened json object if successful, None otherwise.\n",
    "    \"\"\"\n",
    "    out = {}\n",
    "\n",
    "    def flatten(x, name=''):\n",
    "        if type(x) is dict:\n",
    "            for a in x:\n",
    "                flatten(x[a], name + a + '_')\n",
    "        elif type(x) is list:\n",
    "            i = 0\n",
    "            for a in x:\n",
    "                flatten(a, name + str(i) + '_')\n",
    "                i += 1\n",
    "        else:\n",
    "            out[name[:-1]] = x\n",
    "\n",
    "    flatten(nested_json)\n",
    "    return out\n",
    "\n",
    "\n",
    "# start is required to initialise its internal loop\n",
    "twm.start()\n",
    "\n",
    "\n",
    "def handle_socket_message(msg):\n",
    "    # print(f\"event type: {msg['e']}\")\n",
    "    msg = flatten_json(msg)\n",
    "    producer.send('test', {symbol : msg})\n",
    "    # print(msg)\n",
    "\n",
    "\n",
    "twm.start_kline_socket(callback=handle_socket_message, symbol=symbol)\n",
    "\n",
    "twm.join()"
   ]
  }
 ],
 "metadata": {
  "kernelspec": {
   "display_name": "Python 3 (ipykernel)",
   "language": "python",
   "name": "python3"
  },
  "language_info": {
   "codemirror_mode": {
    "name": "ipython",
    "version": 3
   },
   "file_extension": ".py",
   "mimetype": "text/x-python",
   "name": "python",
   "nbconvert_exporter": "python",
   "pygments_lexer": "ipython3",
   "version": "3.8.6"
  }
 },
 "nbformat": 4,
 "nbformat_minor": 5
}
