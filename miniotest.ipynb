{
 "cells": [
  {
   "cell_type": "code",
   "execution_count": null,
   "id": "9406eaef-5be0-46f5-b224-3d171419bb6e",
   "metadata": {},
   "outputs": [],
   "source": [
    "from minio import Minio"
   ]
  },
  {
   "cell_type": "code",
   "execution_count": null,
   "id": "f948e9b6-9f71-4e39-8fa8-b7e31b4093bb",
   "metadata": {},
   "outputs": [],
   "source": [
    "# Minio client\n",
    "mclient = Minio('10.152.183.240:9000', access_key='access-key', secret_key='secret-key', secure=False)"
   ]
  },
  {
   "cell_type": "code",
   "execution_count": null,
   "id": "534cf52c-5db8-4baf-a7e2-de9a599f804f",
   "metadata": {},
   "outputs": [],
   "source": [
    "mclient.fput_object('repo', 'wbs-kafka-test.py', 'untitled1.py')"
   ]
  }
 ],
 "metadata": {
  "kernelspec": {
   "display_name": "Python 3 (ipykernel)",
   "language": "python",
   "name": "python3"
  },
  "language_info": {
   "codemirror_mode": {
    "name": "ipython",
    "version": 3
   },
   "file_extension": ".py",
   "mimetype": "text/x-python",
   "name": "python",
   "nbconvert_exporter": "python",
   "pygments_lexer": "ipython3",
   "version": "3.8.6"
  }
 },
 "nbformat": 4,
 "nbformat_minor": 5
}
