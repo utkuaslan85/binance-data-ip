{
 "cells": [
  {
   "cell_type": "code",
   "execution_count": 2,
   "id": "6b1e6426-1784-4cdc-833f-bb1bfd31947c",
   "metadata": {},
   "outputs": [],
   "source": [
    "from binance.client import Client\n",
    "from s3fs.core import S3FileSystem"
   ]
  },
  {
   "cell_type": "code",
   "execution_count": 3,
   "id": "fa6199ad-45d9-4ae4-8bbd-c16afa45ce87",
   "metadata": {},
   "outputs": [],
   "source": [
    "# s3fs client\n",
    "s3 = S3FileSystem(\n",
    "    anon=False,\n",
    "    key='access-key',\n",
    "    secret='secret-key',\n",
    "    use_ssl=False,\n",
    "    client_kwargs={'endpoint_url': 'http://10.152.183.209:9000'})\n",
    "\n",
    "# Binance client\n",
    "with s3.open('repo/params/binance_cred.txt', 'r') as f:\n",
    "    cred = json.loads(f.read())\n",
    "api_key = cred[\"API_KEY\"]\n",
    "api_secret = cred[\"SECRET_KEY\"]\n",
    "client = Client(api_key=api_key, api_secret=api_secret)"
   ]
  },
  {
   "cell_type": "code",
   "execution_count": null,
   "id": "5c2b9856-6601-4cf3-a400-aa3937e82e73",
   "metadata": {},
   "outputs": [],
   "source": []
  }
 ],
 "metadata": {
  "kernelspec": {
   "display_name": "Python 3 (ipykernel)",
   "language": "python",
   "name": "python3"
  },
  "language_info": {
   "codemirror_mode": {
    "name": "ipython",
    "version": 3
   },
   "file_extension": ".py",
   "mimetype": "text/x-python",
   "name": "python",
   "nbconvert_exporter": "python",
   "pygments_lexer": "ipython3",
   "version": "3.8.6"
  }
 },
 "nbformat": 4,
 "nbformat_minor": 5
}
