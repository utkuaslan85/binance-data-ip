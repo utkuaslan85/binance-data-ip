{
 "cells": [
  {
   "cell_type": "code",
   "execution_count": 1,
   "id": "e881d59b-4133-49a3-be23-8fbef1209275",
   "metadata": {},
   "outputs": [],
   "source": [
    "import pandas as pd\n",
    "from binance.client import Client\n",
    "import datetime\n",
    "import requests\n",
    "from s3fs.core import S3FileSystem, S3File\n",
    "import simplejson as json"
   ]
  },
  {
   "cell_type": "code",
   "execution_count": 2,
   "id": "ce521ff0-1aa7-4ec5-bbc9-020715a5be48",
   "metadata": {},
   "outputs": [],
   "source": [
    "# s3fs client\n",
    "s3 = S3FileSystem(\n",
    "    anon=False,\n",
    "    key='access-key',\n",
    "    secret='secret-key',\n",
    "    use_ssl=False,\n",
    "    client_kwargs={'endpoint_url': 'http://10.152.183.240:9000'})"
   ]
  },
  {
   "cell_type": "code",
   "execution_count": 3,
   "id": "98e3f141-a565-4a9c-bed9-e3b6881e042f",
   "metadata": {},
   "outputs": [],
   "source": [
    "testcsv = S3File(s3, 'data/test.csv', mode='rb')"
   ]
  },
  {
   "cell_type": "code",
   "execution_count": 32,
   "id": "cc4ef2a2-894a-42aa-9e1b-79297621c72d",
   "metadata": {},
   "outputs": [],
   "source": [
    "testfile = S3File(s3, 'data/test1.csv', mode='ab')"
   ]
  },
  {
   "cell_type": "code",
   "execution_count": 4,
   "id": "fd3c84a8-7a6a-4da4-8acd-0ac4a4b5a432",
   "metadata": {},
   "outputs": [],
   "source": [
    "test1 = pd.read_csv(testcsv)"
   ]
  },
  {
   "cell_type": "code",
   "execution_count": 9,
   "id": "a2f63245-e9d9-442f-95e7-8c7c21c8ab38",
   "metadata": {},
   "outputs": [],
   "source": [
    "test2 = test1[:][0:10]"
   ]
  },
  {
   "cell_type": "code",
   "execution_count": 6,
   "id": "25e5be5e-24c2-494c-a72f-9a6138214b05",
   "metadata": {},
   "outputs": [],
   "source": [
    "test3 = test1[:][10:20]"
   ]
  },
  {
   "cell_type": "code",
   "execution_count": null,
   "id": "68e8131f-f700-4409-a0ca-56f3dec780fc",
   "metadata": {},
   "outputs": [],
   "source": [
    "test2.to_csv(testfile, header=True)"
   ]
  },
  {
   "cell_type": "code",
   "execution_count": 33,
   "id": "2850a761-b958-47fb-a4c9-ac77bcfa7571",
   "metadata": {},
   "outputs": [],
   "source": [
    "test3.to_csv(testfile, header=False)"
   ]
  },
  {
   "cell_type": "code",
   "execution_count": null,
   "id": "99429ea4-9990-4dee-9889-4dc0ccac0acd",
   "metadata": {},
   "outputs": [],
   "source": []
  }
 ],
 "metadata": {
  "kernelspec": {
   "display_name": "Python 3 (ipykernel)",
   "language": "python",
   "name": "python3"
  },
  "language_info": {
   "codemirror_mode": {
    "name": "ipython",
    "version": 3
   },
   "file_extension": ".py",
   "mimetype": "text/x-python",
   "name": "python",
   "nbconvert_exporter": "python",
   "pygments_lexer": "ipython3",
   "version": "3.8.6"
  }
 },
 "nbformat": 4,
 "nbformat_minor": 5
}
