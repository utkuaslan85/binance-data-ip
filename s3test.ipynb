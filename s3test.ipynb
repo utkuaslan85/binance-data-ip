{
 "cells": [
  {
   "cell_type": "code",
   "execution_count": 12,
   "id": "e881d59b-4133-49a3-be23-8fbef1209275",
   "metadata": {},
   "outputs": [],
   "source": [
    "from kafka import KafkaProducer\n",
    "from kafka.errors import KafkaError\n",
    "import pandas as pd\n",
    "from binance.client import Client\n",
    "import datetime\n",
    "import requests\n",
    "from minio import Minio\n",
    "import tempfile\n",
    "from s3fs.core import S3FileSystem\n",
    "from binance_config import *\n",
    "import simplejson as json"
   ]
  },
  {
   "cell_type": "code",
   "execution_count": 3,
   "id": "10fa6f70-2a32-4e7f-aa38-af0bb94b149b",
   "metadata": {},
   "outputs": [],
   "source": [
    "# s3fs client\n",
    "s3 = S3FileSystem(\n",
    "    anon=False,\n",
    "    key='access-key',\n",
    "    secret='secret-key',\n",
    "    use_ssl=False,\n",
    "    client_kwargs={'endpoint_url': 'http://10.152.183.240:9000'})"
   ]
  },
  {
   "cell_type": "code",
   "execution_count": 21,
   "id": "eed04b55-9334-4eaa-ab4b-74a5fc08c836",
   "metadata": {},
   "outputs": [],
   "source": [
    "# Binance client\n",
    "with s3.open('repo/binance/binance_cred.txt', 'r') as f:\n",
    "    cred = json.loads(f.read())\n",
    "api_key = cred[\"API_KEY\"]\n",
    "api_secret = cred[\"SECRET_KEY\"]\n",
    "client = Client(api_key=api_key, api_secret=api_secret)"
   ]
  },
  {
   "cell_type": "code",
   "execution_count": 2,
   "id": "95023e96-34a5-47f0-bb0d-c4e1a92eb4d7",
   "metadata": {},
   "outputs": [],
   "source": [
    "# Minio client\n",
    "mclient = Minio('10.152.183.240:9000', access_key='access-key', secret_key='secret-key', secure=False)"
   ]
  },
  {
   "cell_type": "code",
   "execution_count": 3,
   "id": "d6b325d1-f36c-49b7-9c8b-b88002693f59",
   "metadata": {},
   "outputs": [
    {
     "data": {
      "text/plain": [
       "('451b8aedae38a37370a8d3bff7e2ce52', None)"
      ]
     },
     "execution_count": 3,
     "metadata": {},
     "output_type": "execute_result"
    }
   ],
   "source": [
    "mclient.fput_object('repo', 'wbs-kafka-test.py', 'untitled1.py')"
   ]
  },
  {
   "cell_type": "code",
   "execution_count": 17,
   "id": "697eee21-6754-48e6-b188-f6b76cf9c8db",
   "metadata": {},
   "outputs": [],
   "source": [
    "tickers = client.get_all_tickers()\n",
    "\n",
    "df = pd.DataFrame(tickers)"
   ]
  },
  {
   "cell_type": "code",
   "execution_count": null,
   "id": "1973ac85-f7ba-403b-98a8-2a726cb41415",
   "metadata": {},
   "outputs": [],
   "source": [
    "start_date = datetime.datetime.strptime('1 Jan 2016', '%d %b %Y')\n",
    "today = datetime.datetime.today()\n",
    "\n",
    "def binanceBarExtractor(symbol):\n",
    "    print('working...')\n",
    "    filename = '{}_MinuteBars.csv'.format(symbol)\n",
    "\n",
    "    klines = bclient.get_historical_klines(symbol, Client.KLINE_INTERVAL_1MINUTE, start_date.strftime(\"%d %b %Y %H:%M:%S\"), today.strftime(\"%d %b %Y %H:%M:%S\"), 1000)\n",
    "    data = pd.DataFrame(klines, columns = ['open_timestamp', 'open', 'high', 'low', 'close', 'volume', 'close_timestamp', 'quote_av', 'trades', 'tb_base_av', 'tb_quote_av', 'ignore' ])\n",
    "    # data['open_time'] = pd.to_datetime(data['open_time'], unit='ms')\n",
    "    # data['close_time'] = pd.to_datetime(data['close_time'], unit='ms')\n",
    "    # data = data.reset_index()\n",
    "\n",
    "    # data.set_index('open_time', inplace=True)\n",
    "    data.to_csv(filename)\n",
    "    print('finished!')"
   ]
  },
  {
   "cell_type": "code",
   "execution_count": null,
   "id": "62546451-3485-455d-ae62-dee92c5cde2b",
   "metadata": {},
   "outputs": [],
   "source": []
  }
 ],
 "metadata": {
  "kernelspec": {
   "display_name": "Python 3 (ipykernel)",
   "language": "python",
   "name": "python3"
  },
  "language_info": {
   "codemirror_mode": {
    "name": "ipython",
    "version": 3
   },
   "file_extension": ".py",
   "mimetype": "text/x-python",
   "name": "python",
   "nbconvert_exporter": "python",
   "pygments_lexer": "ipython3",
   "version": "3.8.6"
  }
 },
 "nbformat": 4,
 "nbformat_minor": 5
}
