{
 "cells": [
  {
   "cell_type": "code",
   "execution_count": null,
   "id": "7722c636-3c34-4d5f-bb77-e7c71ccf7cb1",
   "metadata": {},
   "outputs": [],
   "source": [
    "import time\n",
    "import hmac\n",
    "import hashlib\n",
    "import urllib\n",
    "import json\n",
    "import requests\n",
    "\n",
    "key = \"wtqoMQp21dTGKL4qrZeHaxv0UZETf55sHOqaWLgu6wAKfmB3N7hTBPjGoMFpHAv3\"\n",
    "secret_key = \"v1YKCDgI11Tl7czwUUgAfBvDWaZjg12hiN3HTMVen8EqDdZuVJxPiPZ3scKW1pBa\"\n",
    "asset = \"BTC\"\n",
    "addr = \"https://api.binance.com/api/v3/account\"  # btc address\n",
    "amount = 1\n",
    "timestamp = int(time.time() * 1000)  # timestamp in ms\n",
    "\n",
    "# the request parameters\n",
    "request_body = {\"timestamp\": timestamp}\n",
    "\n",
    "# sign the request parameters with the secret key\n",
    "# urllib.parse.urlencode(request_body) convert request body to a query string format\n",
    "\n",
    "signature = hmac.new(bytes(secret_key, \"utf-8\"),\n",
    "                     bytes(urllib.parse.urlencode(request_body), \"utf-8\"),\n",
    "                     hashlib.sha256).digest().hex()\n",
    "\n",
    "print(signature)\n",
    "print(timestamp)\n",
    "\n",
    "# add the signature to the request parameters\n",
    "request_body[\"signature\"] = signature\n",
    "\n",
    "header = {\"X-MBX-APIKEY\": key, \\\n",
    "          \"Content-Type\": \"application/json\"}\n",
    "\n",
    "# append the query string to the url\n",
    "url = \"https://api.binance.com/api/v3/account?\" +\\\n",
    "       urllib.parse.urlencode(request_body)\n",
    "\n",
    "response = requests.get(url, headers=header)  # send post request\n",
    "print(response.json())\n",
    "print(type(response))"
   ]
  }
 ],
 "metadata": {
  "kernelspec": {
   "display_name": "Python 3 (ipykernel)",
   "language": "python",
   "name": "python3"
  },
  "language_info": {
   "codemirror_mode": {
    "name": "ipython",
    "version": 3
   },
   "file_extension": ".py",
   "mimetype": "text/x-python",
   "name": "python",
   "nbconvert_exporter": "python",
   "pygments_lexer": "ipython3",
   "version": "3.8.6"
  }
 },
 "nbformat": 4,
 "nbformat_minor": 5
}
