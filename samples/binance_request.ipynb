{
 "cells": [
  {
   "cell_type": "code",
   "execution_count": 2,
   "id": "e287d857-cb2d-43db-8359-7d87f8b72892",
   "metadata": {},
   "outputs": [],
   "source": [
    "import requests"
   ]
  },
  {
   "cell_type": "code",
   "execution_count": 4,
   "id": "ee955ecc-78e8-4da8-87ec-4d36a5cfaa9a",
   "metadata": {},
   "outputs": [],
   "source": [
    "rjson = (requests.get('https://api.binance.com/api/v3/ticker/price?symbol=BNBBTC')).json()"
   ]
  },
  {
   "cell_type": "code",
   "execution_count": 6,
   "id": "0d95f425-ac0d-49b2-8322-3faa656cc783",
   "metadata": {},
   "outputs": [],
   "source": [
    "rpost = requests.get('https://api.binance.com/api/v3/ticker/price', params={'symbol':'BNBBTC'})"
   ]
  },
  {
   "cell_type": "code",
   "execution_count": 8,
   "id": "40831c34-e1a2-4e14-92a0-ebb10c767793",
   "metadata": {},
   "outputs": [
    {
     "name": "stdout",
     "output_type": "stream",
     "text": [
      "{'symbol': 'BNBBTC', 'price': '0.00836600'}\n"
     ]
    }
   ],
   "source": [
    "print(rpost.json())"
   ]
  }
 ],
 "metadata": {
  "kernelspec": {
   "display_name": "Python 3 (ipykernel)",
   "language": "python",
   "name": "python3"
  },
  "language_info": {
   "codemirror_mode": {
    "name": "ipython",
    "version": 3
   },
   "file_extension": ".py",
   "mimetype": "text/x-python",
   "name": "python",
   "nbconvert_exporter": "python",
   "pygments_lexer": "ipython3",
   "version": "3.8.6"
  }
 },
 "nbformat": 4,
 "nbformat_minor": 5
}
