{
 "cells": [
  {
   "cell_type": "code",
   "execution_count": null,
   "id": "964e0e4c-dedc-4556-8eac-073226923585",
   "metadata": {},
   "outputs": [],
   "source": [
    "import collections\n",
    "crumbs = True\n",
    "def flatten(dictionary, parent_key=False, separator='.'):\n",
    "    \"\"\"\n",
    "    Turn a nested dictionary into a flattened dictionary\n",
    "    :param dictionary: The dictionary to flatten\n",
    "    :param parent_key: The string to prepend to dictionary's keys\n",
    "    :param separator: The string used to separate flattened keys\n",
    "    :return: A flattened dictionary\n",
    "    \"\"\"\n",
    "\n",
    "    items = []\n",
    "    for key, value in dictionary.items():\n",
    "        if crumbs: print('checking:',key)\n",
    "        new_key = str(parent_key) + separator + key if parent_key else key\n",
    "        if isinstance(value, collections.MutableMapping):\n",
    "            if crumbs: print(new_key,': dict found')\n",
    "            if not value.items():\n",
    "                if crumbs: print('Adding key-value pair:',new_key,None)\n",
    "                items.append((new_key,None))\n",
    "            else:\n",
    "                items.extend(flatten(value, new_key, separator).items())\n",
    "        elif isinstance(value, list):\n",
    "            if crumbs: print(new_key,': list found')\n",
    "            if len(value):\n",
    "                for k, v in enumerate(value):\n",
    "                    items.extend(flatten({str(k): v}, new_key).items())\n",
    "            else:\n",
    "                if crumbs: print('Adding key-value pair:',new_key,None)\n",
    "                items.append((new_key,None))\n",
    "        else:\n",
    "            if crumbs: print('Adding key-value pair:',new_key,value)\n",
    "            items.append((new_key, value))\n",
    "    return dict(items)"
   ]
  },
  {
   "cell_type": "code",
   "execution_count": null,
   "id": "58c58af4-c436-4fcb-9cc8-1546142d9edf",
   "metadata": {},
   "outputs": [],
   "source": [
    "def flatten_json(nested_json):\n",
    "    \"\"\"\n",
    "        Flatten json object with nested keys into a single level.\n",
    "        Args:\n",
    "            nested_json: A nested json object.\n",
    "        Returns:\n",
    "            The flattened json object if successful, None otherwise.\n",
    "    \"\"\"\n",
    "    out = {}\n",
    "\n",
    "    def flatten(x, name=''):\n",
    "        if type(x) is dict:\n",
    "            for a in x:\n",
    "                flatten(x[a], name + a + '_')\n",
    "        elif type(x) is list:\n",
    "            i = 0\n",
    "            for a in x:\n",
    "                flatten(a, name + str(i) + '_')\n",
    "                i += 1\n",
    "        else:\n",
    "            out[name[:-1]] = x\n",
    "\n",
    "    flatten(nested_json)\n",
    "    return out"
   ]
  }
 ],
 "metadata": {
  "kernelspec": {
   "display_name": "Python 3 (ipykernel)",
   "language": "python",
   "name": "python3"
  },
  "language_info": {
   "codemirror_mode": {
    "name": "ipython",
    "version": 3
   },
   "file_extension": ".py",
   "mimetype": "text/x-python",
   "name": "python",
   "nbconvert_exporter": "python",
   "pygments_lexer": "ipython3",
   "version": "3.9.2"
  }
 },
 "nbformat": 4,
 "nbformat_minor": 5
}
