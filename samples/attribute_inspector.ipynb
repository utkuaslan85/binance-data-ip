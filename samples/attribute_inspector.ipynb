{
 "cells": [
  {
   "cell_type": "code",
   "execution_count": null,
   "id": "3a8ce0ab-3e1a-490e-81f5-65db805cfeef",
   "metadata": {},
   "outputs": [],
   "source": [
    "import inspect"
   ]
  },
  {
   "cell_type": "code",
   "execution_count": null,
   "id": "7c27f2a5-e75c-4c4a-88c8-264a074496c5",
   "metadata": {},
   "outputs": [],
   "source": [
    "class MyClass(object):\n",
    "    a = '12'\n",
    "    b = '34'\n",
    "    def myfunc(self):\n",
    "        return self.a"
   ]
  },
  {
   "cell_type": "code",
   "execution_count": null,
   "id": "1ef0820d-cb39-44dd-aff2-675736c1ee60",
   "metadata": {},
   "outputs": [],
   "source": [
    "inspect.getmembers(MyClass, lambda a:not(inspect.isroutine(a)))"
   ]
  },
  {
   "cell_type": "code",
   "execution_count": null,
   "id": "f57e6141-5864-4391-bc81-b6d051b445d0",
   "metadata": {},
   "outputs": [],
   "source": [
    "attributes = inspect.getmembers(MyClass, lambda a:not(inspect.isroutine(a)))\n",
    "[a for a in attributes if not(a[0].startswith('__') and a[0].endswith('__'))]"
   ]
  }
 ],
 "metadata": {
  "kernelspec": {
   "display_name": "Python 3 (ipykernel)",
   "language": "python",
   "name": "python3"
  },
  "language_info": {
   "codemirror_mode": {
    "name": "ipython",
    "version": 3
   },
   "file_extension": ".py",
   "mimetype": "text/x-python",
   "name": "python",
   "nbconvert_exporter": "python",
   "pygments_lexer": "ipython3",
   "version": "3.9.2"
  }
 },
 "nbformat": 4,
 "nbformat_minor": 5
}
