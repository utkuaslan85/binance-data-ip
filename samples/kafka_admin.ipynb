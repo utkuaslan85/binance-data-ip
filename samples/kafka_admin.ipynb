{
 "cells": [
  {
   "cell_type": "code",
   "execution_count": null,
   "id": "e1fcd847-febd-4a68-9ff6-578dfa4bac4c",
   "metadata": {},
   "outputs": [],
   "source": [
    "from kafka import KafkaAdminClient"
   ]
  },
  {
   "cell_type": "code",
   "execution_count": null,
   "id": "8063addb-046e-4fde-8179-d4523b5abdc2",
   "metadata": {},
   "outputs": [],
   "source": [
    "# KafkaAdminClient calismiyor. Experimental feature\n",
    "kadmin = KafkaAdminClient(bootstrap_servers=['kafka.kafka.svc.cluster.local:9092'])\n",
    "kadmin.create_topics([\"test\"])"
   ]
  },
  {
   "cell_type": "code",
   "execution_count": null,
   "id": "1d1075a9-493e-4582-bd75-6ec474fbfa3c",
   "metadata": {},
   "outputs": [],
   "source": [
    "!/opt/bitnami/kafka/bin/kafka-topics.sh  --bootstrap-server 'kafka.kafka.svc.cluster.local:9092' --create --topic 'test' --partitions 1"
   ]
  }
 ],
 "metadata": {
  "kernelspec": {
   "display_name": "Python 3 (ipykernel)",
   "language": "python",
   "name": "python3"
  },
  "language_info": {
   "codemirror_mode": {
    "name": "ipython",
    "version": 3
   },
   "file_extension": ".py",
   "mimetype": "text/x-python",
   "name": "python",
   "nbconvert_exporter": "python",
   "pygments_lexer": "ipython3",
   "version": "3.8.10"
  }
 },
 "nbformat": 4,
 "nbformat_minor": 5
}
