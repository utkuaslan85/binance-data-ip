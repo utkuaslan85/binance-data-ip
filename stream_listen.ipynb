{
 "cells": [
  {
   "cell_type": "code",
   "execution_count": null,
   "id": "5e363e3d-b124-494e-9300-b65a159eb2f2",
   "metadata": {},
   "outputs": [],
   "source": [
    "from kafka import KafkaProducer\n",
    "from binance_config import *\n",
    "from binance import ThreadedWebsocketManager\n",
    "\n",
    "# Binance client\n",
    "api_key = API_KEY   \n",
    "api_secret = SECRET_KEY\n",
    "twm = ThreadedWebsocketManager(api_key=api_key, api_secret=api_secret)\n",
    "\n",
    "# Kafka Client\n",
    "producer = KafkaProducer(bootstrap_servers=['kafka.kafka.svc.cluster.local:9092'], value_serializer=lambda m: json.dumps(m).encode('ascii'))\n",
    "\n",
    "symbol = 'BNBBTC'\n",
    "\n",
    "# start is required to initialise its internal loop\n",
    "twm.start()\n",
    "\n",
    "def handle_socket_message(msg):\n",
    "    # print(f\"event type: {msg['e']}\")\n",
    "    # msg = flatten_json(msg)\n",
    "    producer.send('test', {symbol : msg})\n",
    "    print(msg)\n",
    "\n",
    "twm.start_kline_socket(callback=handle_socket_message, symbol=symbol)\n",
    "\n",
    "twm.join()"
   ]
  },
  {
   "cell_type": "code",
   "execution_count": null,
   "id": "8d7853ee-ec06-46d2-8ffb-733f233a8afb",
   "metadata": {},
   "outputs": [],
   "source": [
    "from kafka import KafkaProducer\n",
    "from binance import ThreadedWebsocketManager\n",
    "\n",
    "# Binance client\n",
    "api_key = \"wtqoMQp21dTGKL4qrZeHaxv0UZETf55sHOqaWLgu6wAKfmB3N7hTBPjGoMFpHAv3\"\n",
    "api_secret = \"v1YKCDgI11Tl7czwUUgAfBvDWaZjg12hiN3HTMVen8EqDdZuVJxPiPZ3scKW1pBa\"\n",
    "twm = ThreadedWebsocketManager(api_key=api_key, api_secret=api_secret)\n",
    "\n",
    "# Kafka Client\n",
    "producer = KafkaProducer(bootstrap_servers=['kafka.kafka.svc.cluster.local:9092'], value_serializer=lambda m: json.dumps(m).encode('ascii'))\n",
    "\n",
    "symbol = 'BTCUSD'\n",
    "\n",
    "def handle_socket_message(msg):\n",
    "\n",
    "    producer.send('test', {symbol : msg})\n",
    "    print(msg.json())\n",
    "\n",
    "twm.start_kline_socket(callback=handle_socket_message, symbol=symbol)\n",
    "\n",
    "twm.join()"
   ]
  }
 ],
 "metadata": {
  "kernelspec": {
   "display_name": "Python 3 (ipykernel)",
   "language": "python",
   "name": "python3"
  },
  "language_info": {
   "codemirror_mode": {
    "name": "ipython",
    "version": 3
   },
   "file_extension": ".py",
   "mimetype": "text/x-python",
   "name": "python",
   "nbconvert_exporter": "python",
   "pygments_lexer": "ipython3",
   "version": "3.8.6"
  }
 },
 "nbformat": 4,
 "nbformat_minor": 5
}
