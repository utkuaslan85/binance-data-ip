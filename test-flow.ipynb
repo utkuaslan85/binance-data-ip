{
 "cells": [
  {
   "cell_type": "code",
   "execution_count": 1,
   "id": "5e363e3d-b124-494e-9300-b65a159eb2f2",
   "metadata": {},
   "outputs": [
    {
     "name": "stdout",
     "output_type": "stream",
     "text": [
      "{'e': 'kline', 'E': 1628678262977, 's': 'BNBBTC', 'k': {'t': 1628678220000, 'T': 1628678279999, 's': 'BNBBTC', 'i': '1m', 'f': 156024228, 'L': 156024245, 'o': '0.00839600', 'c': '0.00840200', 'h': '0.00840200', 'l': '0.00839500', 'v': '7.86000000', 'n': 18, 'x': False, 'q': '0.06601764', 'V': '6.49000000', 'Q': '0.05451139', 'B': '0'}}\n",
      "{'e': 'kline', 'E': 1628678265347, 's': 'BNBBTC', 'k': {'t': 1628678220000, 'T': 1628678279999, 's': 'BNBBTC', 'i': '1m', 'f': 156024228, 'L': 156024246, 'o': '0.00839600', 'c': '0.00840100', 'h': '0.00840200', 'l': '0.00839500', 'v': '7.88000000', 'n': 19, 'x': False, 'q': '0.06618566', 'V': '6.49000000', 'Q': '0.05451139', 'B': '0'}}\n",
      "{'e': 'kline', 'E': 1628678268021, 's': 'BNBBTC', 'k': {'t': 1628678220000, 'T': 1628678279999, 's': 'BNBBTC', 'i': '1m', 'f': 156024228, 'L': 156024251, 'o': '0.00839600', 'c': '0.00840200', 'h': '0.00840200', 'l': '0.00839500', 'v': '16.70000000', 'n': 24, 'x': False, 'q': '0.14029130', 'V': '15.31000000', 'Q': '0.12861703', 'B': '0'}}\n",
      "{'e': 'kline', 'E': 1628678270568, 's': 'BNBBTC', 'k': {'t': 1628678220000, 'T': 1628678279999, 's': 'BNBBTC', 'i': '1m', 'f': 156024228, 'L': 156024252, 'o': '0.00839600', 'c': '0.00840200', 'h': '0.00840200', 'l': '0.00839500', 'v': '17.00000000', 'n': 25, 'x': False, 'q': '0.14281190', 'V': '15.61000000', 'Q': '0.13113763', 'B': '0'}}\n"
     ]
    },
    {
     "ename": "KeyboardInterrupt",
     "evalue": "",
     "output_type": "error",
     "traceback": [
      "\u001b[0;31m---------------------------------------------------------------------------\u001b[0m",
      "\u001b[0;31mKeyboardInterrupt\u001b[0m                         Traceback (most recent call last)",
      "\u001b[0;32m/tmp/ipykernel_3449/2008306401.py\u001b[0m in \u001b[0;36m<module>\u001b[0;34m\u001b[0m\n\u001b[1;32m     49\u001b[0m \u001b[0mtwm\u001b[0m\u001b[0;34m.\u001b[0m\u001b[0mstart_kline_socket\u001b[0m\u001b[0;34m(\u001b[0m\u001b[0mcallback\u001b[0m\u001b[0;34m=\u001b[0m\u001b[0mhandle_socket_message\u001b[0m\u001b[0;34m,\u001b[0m \u001b[0msymbol\u001b[0m\u001b[0;34m=\u001b[0m\u001b[0msymbol\u001b[0m\u001b[0;34m)\u001b[0m\u001b[0;34m\u001b[0m\u001b[0;34m\u001b[0m\u001b[0m\n\u001b[1;32m     50\u001b[0m \u001b[0;34m\u001b[0m\u001b[0m\n\u001b[0;32m---> 51\u001b[0;31m \u001b[0mtwm\u001b[0m\u001b[0;34m.\u001b[0m\u001b[0mjoin\u001b[0m\u001b[0;34m(\u001b[0m\u001b[0;34m)\u001b[0m\u001b[0;34m\u001b[0m\u001b[0;34m\u001b[0m\u001b[0m\n\u001b[0m",
      "\u001b[0;32m/opt/conda/lib/python3.8/threading.py\u001b[0m in \u001b[0;36mjoin\u001b[0;34m(self, timeout)\u001b[0m\n\u001b[1;32m   1009\u001b[0m \u001b[0;34m\u001b[0m\u001b[0m\n\u001b[1;32m   1010\u001b[0m         \u001b[0;32mif\u001b[0m \u001b[0mtimeout\u001b[0m \u001b[0;32mis\u001b[0m \u001b[0;32mNone\u001b[0m\u001b[0;34m:\u001b[0m\u001b[0;34m\u001b[0m\u001b[0;34m\u001b[0m\u001b[0m\n\u001b[0;32m-> 1011\u001b[0;31m             \u001b[0mself\u001b[0m\u001b[0;34m.\u001b[0m\u001b[0m_wait_for_tstate_lock\u001b[0m\u001b[0;34m(\u001b[0m\u001b[0;34m)\u001b[0m\u001b[0;34m\u001b[0m\u001b[0;34m\u001b[0m\u001b[0m\n\u001b[0m\u001b[1;32m   1012\u001b[0m         \u001b[0;32melse\u001b[0m\u001b[0;34m:\u001b[0m\u001b[0;34m\u001b[0m\u001b[0;34m\u001b[0m\u001b[0m\n\u001b[1;32m   1013\u001b[0m             \u001b[0;31m# the behavior of a negative timeout isn't documented, but\u001b[0m\u001b[0;34m\u001b[0m\u001b[0;34m\u001b[0m\u001b[0;34m\u001b[0m\u001b[0m\n",
      "\u001b[0;32m/opt/conda/lib/python3.8/threading.py\u001b[0m in \u001b[0;36m_wait_for_tstate_lock\u001b[0;34m(self, block, timeout)\u001b[0m\n\u001b[1;32m   1025\u001b[0m         \u001b[0;32mif\u001b[0m \u001b[0mlock\u001b[0m \u001b[0;32mis\u001b[0m \u001b[0;32mNone\u001b[0m\u001b[0;34m:\u001b[0m  \u001b[0;31m# already determined that the C code is done\u001b[0m\u001b[0;34m\u001b[0m\u001b[0;34m\u001b[0m\u001b[0m\n\u001b[1;32m   1026\u001b[0m             \u001b[0;32massert\u001b[0m \u001b[0mself\u001b[0m\u001b[0;34m.\u001b[0m\u001b[0m_is_stopped\u001b[0m\u001b[0;34m\u001b[0m\u001b[0;34m\u001b[0m\u001b[0m\n\u001b[0;32m-> 1027\u001b[0;31m         \u001b[0;32melif\u001b[0m \u001b[0mlock\u001b[0m\u001b[0;34m.\u001b[0m\u001b[0macquire\u001b[0m\u001b[0;34m(\u001b[0m\u001b[0mblock\u001b[0m\u001b[0;34m,\u001b[0m \u001b[0mtimeout\u001b[0m\u001b[0;34m)\u001b[0m\u001b[0;34m:\u001b[0m\u001b[0;34m\u001b[0m\u001b[0;34m\u001b[0m\u001b[0m\n\u001b[0m\u001b[1;32m   1028\u001b[0m             \u001b[0mlock\u001b[0m\u001b[0;34m.\u001b[0m\u001b[0mrelease\u001b[0m\u001b[0;34m(\u001b[0m\u001b[0;34m)\u001b[0m\u001b[0;34m\u001b[0m\u001b[0;34m\u001b[0m\u001b[0m\n\u001b[1;32m   1029\u001b[0m             \u001b[0mself\u001b[0m\u001b[0;34m.\u001b[0m\u001b[0m_stop\u001b[0m\u001b[0;34m(\u001b[0m\u001b[0;34m)\u001b[0m\u001b[0;34m\u001b[0m\u001b[0;34m\u001b[0m\u001b[0m\n",
      "\u001b[0;31mKeyboardInterrupt\u001b[0m: "
     ]
    }
   ],
   "source": [
    "from kafka import KafkaProducer\n",
    "from binance_config import *\n",
    "from binance import ThreadedWebsocketManager\n",
    "\n",
    "# Binance client\n",
    "api_key = API_KEY   \n",
    "api_secret = SECRET_KEY\n",
    "twm = ThreadedWebsocketManager(api_key=api_key, api_secret=api_secret)\n",
    "\n",
    "# Kafka Client\n",
    "producer = KafkaProducer(bootstrap_servers=['kafka.kafka.svc.cluster.local:9092'], value_serializer=lambda m: json.dumps(m).encode('ascii'))\n",
    "\n",
    "symbol = 'BNBBTC'\n",
    "\n",
    "def flatten_json(nested_json):\n",
    "    \"\"\"\n",
    "        Flatten json object with nested keys into a single level.\n",
    "        Args:\n",
    "            nested_json: A nested json object.\n",
    "        Returns:\n",
    "            The flattened json object if successful, None otherwise.\n",
    "    \"\"\"\n",
    "    out = {}\n",
    "\n",
    "    def flatten(x, name=''):\n",
    "        if type(x) is dict:\n",
    "            for a in x:\n",
    "                flatten(x[a], name + a + '_')\n",
    "        elif type(x) is list:\n",
    "            i = 0\n",
    "            for a in x:\n",
    "                flatten(a, name + str(i) + '_')\n",
    "                i += 1\n",
    "        else:\n",
    "            out[name[:-1]] = x\n",
    "\n",
    "    flatten(nested_json)\n",
    "    return out\n",
    "\n",
    "# start is required to initialise its internal loop\n",
    "twm.start()\n",
    "\n",
    "def handle_socket_message(msg):\n",
    "    # print(f\"event type: {msg['e']}\")\n",
    "    # msg = flatten_json(msg)\n",
    "    producer.send('test', {symbol : msg})\n",
    "    print(msg)\n",
    "\n",
    "twm.start_kline_socket(callback=handle_socket_message, symbol=symbol)\n",
    "\n",
    "twm.join()"
   ]
  },
  {
   "cell_type": "code",
   "execution_count": null,
   "id": "e4ad59b9-7234-43e7-ac2e-a26ba0381ace",
   "metadata": {},
   "outputs": [],
   "source": []
  }
 ],
 "metadata": {
  "kernelspec": {
   "display_name": "Python 3 (ipykernel)",
   "language": "python",
   "name": "python3"
  },
  "language_info": {
   "codemirror_mode": {
    "name": "ipython",
    "version": 3
   },
   "file_extension": ".py",
   "mimetype": "text/x-python",
   "name": "python",
   "nbconvert_exporter": "python",
   "pygments_lexer": "ipython3",
   "version": "3.8.6"
  }
 },
 "nbformat": 4,
 "nbformat_minor": 5
}
